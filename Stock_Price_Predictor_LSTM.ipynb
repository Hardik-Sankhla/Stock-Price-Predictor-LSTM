{
  "nbformat": 4,
  "nbformat_minor": 0,
  "metadata": {
    "colab": {
      "provenance": [],
      "gpuType": "V28"
    },
    "kernelspec": {
      "name": "python3",
      "display_name": "Python 3"
    },
    "language_info": {
      "name": "python"
    },
    "accelerator": "TPU"
  },
  "cells": [
    {
      "cell_type": "markdown",
      "source": [
        "# Install & Import Libraries (Install Dependencies)\n"
      ],
      "metadata": {
        "id": "_Rl2eApJL3ED"
      }
    },
    {
      "cell_type": "code",
      "execution_count": 3,
      "metadata": {
        "colab": {
          "base_uri": "https://localhost:8080/"
        },
        "id": "CuX2pzYiKTPt",
        "outputId": "4aa6a914-1413-4f40-bca7-f800033da742"
      },
      "outputs": [
        {
          "output_type": "stream",
          "name": "stdout",
          "text": [
            "Requirement already satisfied: tensorflow in /usr/local/lib/python3.11/dist-packages (2.19.0)\n",
            "Requirement already satisfied: absl-py>=1.0.0 in /usr/local/lib/python3.11/dist-packages (from tensorflow) (1.4.0)\n",
            "Requirement already satisfied: astunparse>=1.6.0 in /usr/local/lib/python3.11/dist-packages (from tensorflow) (1.6.3)\n",
            "Requirement already satisfied: flatbuffers>=24.3.25 in /usr/local/lib/python3.11/dist-packages (from tensorflow) (25.2.10)\n",
            "Requirement already satisfied: gast!=0.5.0,!=0.5.1,!=0.5.2,>=0.2.1 in /usr/local/lib/python3.11/dist-packages (from tensorflow) (0.6.0)\n",
            "Requirement already satisfied: google-pasta>=0.1.1 in /usr/local/lib/python3.11/dist-packages (from tensorflow) (0.2.0)\n",
            "Requirement already satisfied: libclang>=13.0.0 in /usr/local/lib/python3.11/dist-packages (from tensorflow) (18.1.1)\n",
            "Requirement already satisfied: opt-einsum>=2.3.2 in /usr/local/lib/python3.11/dist-packages (from tensorflow) (3.4.0)\n",
            "Requirement already satisfied: packaging in /usr/local/lib/python3.11/dist-packages (from tensorflow) (24.2)\n",
            "Requirement already satisfied: protobuf!=4.21.0,!=4.21.1,!=4.21.2,!=4.21.3,!=4.21.4,!=4.21.5,<6.0.0dev,>=3.20.3 in /usr/local/lib/python3.11/dist-packages (from tensorflow) (5.29.4)\n",
            "Requirement already satisfied: requests<3,>=2.21.0 in /usr/local/lib/python3.11/dist-packages (from tensorflow) (2.32.3)\n",
            "Requirement already satisfied: setuptools in /usr/local/lib/python3.11/dist-packages (from tensorflow) (75.2.0)\n",
            "Requirement already satisfied: six>=1.12.0 in /usr/local/lib/python3.11/dist-packages (from tensorflow) (1.17.0)\n",
            "Requirement already satisfied: termcolor>=1.1.0 in /usr/local/lib/python3.11/dist-packages (from tensorflow) (3.0.1)\n",
            "Requirement already satisfied: typing-extensions>=3.6.6 in /usr/local/lib/python3.11/dist-packages (from tensorflow) (4.13.2)\n",
            "Requirement already satisfied: wrapt>=1.11.0 in /usr/local/lib/python3.11/dist-packages (from tensorflow) (1.17.2)\n",
            "Requirement already satisfied: grpcio<2.0,>=1.24.3 in /usr/local/lib/python3.11/dist-packages (from tensorflow) (1.71.0)\n",
            "Requirement already satisfied: tensorboard~=2.19.0 in /usr/local/lib/python3.11/dist-packages (from tensorflow) (2.19.0)\n",
            "Requirement already satisfied: keras>=3.5.0 in /usr/local/lib/python3.11/dist-packages (from tensorflow) (3.8.0)\n",
            "Requirement already satisfied: numpy<2.2.0,>=1.26.0 in /usr/local/lib/python3.11/dist-packages (from tensorflow) (2.0.2)\n",
            "Requirement already satisfied: h5py>=3.11.0 in /usr/local/lib/python3.11/dist-packages (from tensorflow) (3.13.0)\n",
            "Requirement already satisfied: ml-dtypes<1.0.0,>=0.5.1 in /usr/local/lib/python3.11/dist-packages (from tensorflow) (0.5.1)\n",
            "Requirement already satisfied: tensorflow-io-gcs-filesystem>=0.23.1 in /usr/local/lib/python3.11/dist-packages (from tensorflow) (0.37.1)\n",
            "Requirement already satisfied: wheel<1.0,>=0.23.0 in /usr/local/lib/python3.11/dist-packages (from astunparse>=1.6.0->tensorflow) (0.45.1)\n",
            "Requirement already satisfied: rich in /usr/local/lib/python3.11/dist-packages (from keras>=3.5.0->tensorflow) (14.0.0)\n",
            "Requirement already satisfied: namex in /usr/local/lib/python3.11/dist-packages (from keras>=3.5.0->tensorflow) (0.0.8)\n",
            "Requirement already satisfied: optree in /usr/local/lib/python3.11/dist-packages (from keras>=3.5.0->tensorflow) (0.15.0)\n",
            "Requirement already satisfied: charset-normalizer<4,>=2 in /usr/local/lib/python3.11/dist-packages (from requests<3,>=2.21.0->tensorflow) (3.4.1)\n",
            "Requirement already satisfied: idna<4,>=2.5 in /usr/local/lib/python3.11/dist-packages (from requests<3,>=2.21.0->tensorflow) (3.10)\n",
            "Requirement already satisfied: urllib3<3,>=1.21.1 in /usr/local/lib/python3.11/dist-packages (from requests<3,>=2.21.0->tensorflow) (2.3.0)\n",
            "Requirement already satisfied: certifi>=2017.4.17 in /usr/local/lib/python3.11/dist-packages (from requests<3,>=2.21.0->tensorflow) (2025.1.31)\n",
            "Requirement already satisfied: markdown>=2.6.8 in /usr/lib/python3/dist-packages (from tensorboard~=2.19.0->tensorflow) (3.3.6)\n",
            "Requirement already satisfied: tensorboard-data-server<0.8.0,>=0.7.0 in /usr/local/lib/python3.11/dist-packages (from tensorboard~=2.19.0->tensorflow) (0.7.2)\n",
            "Requirement already satisfied: werkzeug>=1.0.1 in /usr/local/lib/python3.11/dist-packages (from tensorboard~=2.19.0->tensorflow) (3.1.3)\n",
            "Requirement already satisfied: MarkupSafe>=2.1.1 in /usr/local/lib/python3.11/dist-packages (from werkzeug>=1.0.1->tensorboard~=2.19.0->tensorflow) (3.0.2)\n",
            "Requirement already satisfied: markdown-it-py>=2.2.0 in /usr/local/lib/python3.11/dist-packages (from rich->keras>=3.5.0->tensorflow) (3.0.0)\n",
            "Requirement already satisfied: pygments<3.0.0,>=2.13.0 in /usr/local/lib/python3.11/dist-packages (from rich->keras>=3.5.0->tensorflow) (2.19.1)\n",
            "Requirement already satisfied: mdurl~=0.1 in /usr/local/lib/python3.11/dist-packages (from markdown-it-py>=2.2.0->rich->keras>=3.5.0->tensorflow) (0.1.2)\n"
          ]
        }
      ],
      "source": [
        "!pip install yfinance joblib ta --quiet\n",
        "!pip install tensorflow\n",
        "\n",
        "import numpy as np\n",
        "import pandas as pd\n",
        "import matplotlib.pyplot as plt\n",
        "from sklearn.preprocessing import MinMaxScaler\n",
        "from sklearn.model_selection import train_test_split\n",
        "import yfinance as yf\n",
        "import joblib\n",
        "import os\n",
        "import ta\n",
        "\n",
        "from tensorflow.keras.models import Sequential\n",
        "from tensorflow.keras.layers import LSTM, Dense, Dropout, Bidirectional\n",
        "from tensorflow.keras.callbacks import EarlyStopping, ModelCheckpoint\n",
        "from tensorflow.keras.optimizers import Adam\n"
      ]
    },
    {
      "cell_type": "markdown",
      "source": [
        "# Create Directory & Download Stock Data"
      ],
      "metadata": {
        "id": "9wP4kZJbMCnn"
      }
    },
    {
      "cell_type": "code",
      "source": [
        "os.makedirs(\"data\", exist_ok=True)\n",
        "\n",
        "# Download AAPL stock data\n",
        "df = yf.download(\"AAPL\", start=\"2015-01-01\", end=\"2025-01-01\")\n",
        "df.to_csv(\"data/raw_stock.csv\")"
      ],
      "metadata": {
        "colab": {
          "base_uri": "https://localhost:8080/"
        },
        "id": "j8VTp-94MDno",
        "outputId": "77ac1e91-45dc-4cd4-8c2a-3e20736ff701"
      },
      "execution_count": 5,
      "outputs": [
        {
          "output_type": "stream",
          "name": "stderr",
          "text": [
            "\r[*********************100%***********************]  1 of 1 completed\n"
          ]
        }
      ]
    },
    {
      "cell_type": "markdown",
      "source": [
        "# Add Technical Indicators"
      ],
      "metadata": {
        "id": "wFRF9GjaMF5I"
      }
    },
    {
      "cell_type": "code",
      "source": [
        "# Load CSV properly and convert necessary columns to numeric\n",
        "df = pd.read_csv(\"data/raw_stock.csv\")\n",
        "\n",
        "# Ensure 'Close' column is numeric\n",
        "df['Close'] = pd.to_numeric(df['Close'], errors='coerce')\n",
        "\n",
        "# Drop any rows with NaNs (including those caused by coercion)\n",
        "df.dropna(subset=['Close'], inplace=True)\n",
        "\n",
        "# Calculate technical indicators (safe now)\n",
        "df['SMA_20'] = ta.trend.sma_indicator(df['Close'], window=20)\n",
        "df['EMA_20'] = ta.trend.ema_indicator(df['Close'], window=20)\n",
        "df['RSI'] = ta.momentum.rsi(df['Close'], window=14)\n",
        "df['MACD'] = ta.trend.macd_diff(df['Close'])\n",
        "bb = ta.volatility.BollingerBands(df['Close'], window=20)\n",
        "df['BB_High'] = bb.bollinger_hband()\n",
        "df['BB_Low'] = bb.bollinger_lband()\n",
        "\n",
        "# Drop NaNs from indicator calculations\n",
        "df.dropna(inplace=True)\n",
        "\n",
        "# Save cleaned and enriched dataset\n",
        "df.to_csv(\"data/processed_stock.csv\", index=False)\n",
        "df.head()\n"
      ],
      "metadata": {
        "colab": {
          "base_uri": "https://localhost:8080/",
          "height": 206
        },
        "id": "OIUuKG1GMFM1",
        "outputId": "4fa53ff5-571a-4e23-9dc9-bcde85a4657f"
      },
      "execution_count": 7,
      "outputs": [
        {
          "output_type": "execute_result",
          "data": {
            "text/plain": [
              "         Price      Close                High                 Low  \\\n",
              "35  2015-02-20  28.920938   28.92093849182129   28.59711399333912   \n",
              "36  2015-02-23  29.702587  29.702587127685547  28.956673351502488   \n",
              "37  2015-02-24  29.517225  29.836585687088274  29.293897538526853   \n",
              "38  2015-02-25  28.762377  29.389930567701946   28.61944717469499   \n",
              "39  2015-02-26  29.126396  29.226892955598142  28.275518247199624   \n",
              "\n",
              "                  Open     Volume     SMA_20     EMA_20        RSI      MACD  \\\n",
              "35  28.724409016235786  195793600  26.942900  27.182864  78.737110  0.146918   \n",
              "36   29.03707146800615  283896400  27.171411  27.422838  82.379092  0.172409   \n",
              "37    29.6891885694335  276912400  27.389319  27.622303  78.926602  0.158819   \n",
              "38   29.38099555020321  298846800  27.613529  27.730882  66.672388  0.084741   \n",
              "39  28.762370963301535  365150000  27.787315  27.863788  69.159169  0.047844   \n",
              "\n",
              "      BB_High     BB_Low  \n",
              "35  29.578009  24.307791  \n",
              "36  29.928674  24.414148  \n",
              "37  30.164787  24.613850  \n",
              "38  30.051427  25.175632  \n",
              "39  30.134598  25.440033  "
            ],
            "text/html": [
              "\n",
              "  <div id=\"df-ed55b6ae-d41c-48be-ab04-e6b859ec0349\" class=\"colab-df-container\">\n",
              "    <div>\n",
              "<style scoped>\n",
              "    .dataframe tbody tr th:only-of-type {\n",
              "        vertical-align: middle;\n",
              "    }\n",
              "\n",
              "    .dataframe tbody tr th {\n",
              "        vertical-align: top;\n",
              "    }\n",
              "\n",
              "    .dataframe thead th {\n",
              "        text-align: right;\n",
              "    }\n",
              "</style>\n",
              "<table border=\"1\" class=\"dataframe\">\n",
              "  <thead>\n",
              "    <tr style=\"text-align: right;\">\n",
              "      <th></th>\n",
              "      <th>Price</th>\n",
              "      <th>Close</th>\n",
              "      <th>High</th>\n",
              "      <th>Low</th>\n",
              "      <th>Open</th>\n",
              "      <th>Volume</th>\n",
              "      <th>SMA_20</th>\n",
              "      <th>EMA_20</th>\n",
              "      <th>RSI</th>\n",
              "      <th>MACD</th>\n",
              "      <th>BB_High</th>\n",
              "      <th>BB_Low</th>\n",
              "    </tr>\n",
              "  </thead>\n",
              "  <tbody>\n",
              "    <tr>\n",
              "      <th>35</th>\n",
              "      <td>2015-02-20</td>\n",
              "      <td>28.920938</td>\n",
              "      <td>28.92093849182129</td>\n",
              "      <td>28.59711399333912</td>\n",
              "      <td>28.724409016235786</td>\n",
              "      <td>195793600</td>\n",
              "      <td>26.942900</td>\n",
              "      <td>27.182864</td>\n",
              "      <td>78.737110</td>\n",
              "      <td>0.146918</td>\n",
              "      <td>29.578009</td>\n",
              "      <td>24.307791</td>\n",
              "    </tr>\n",
              "    <tr>\n",
              "      <th>36</th>\n",
              "      <td>2015-02-23</td>\n",
              "      <td>29.702587</td>\n",
              "      <td>29.702587127685547</td>\n",
              "      <td>28.956673351502488</td>\n",
              "      <td>29.03707146800615</td>\n",
              "      <td>283896400</td>\n",
              "      <td>27.171411</td>\n",
              "      <td>27.422838</td>\n",
              "      <td>82.379092</td>\n",
              "      <td>0.172409</td>\n",
              "      <td>29.928674</td>\n",
              "      <td>24.414148</td>\n",
              "    </tr>\n",
              "    <tr>\n",
              "      <th>37</th>\n",
              "      <td>2015-02-24</td>\n",
              "      <td>29.517225</td>\n",
              "      <td>29.836585687088274</td>\n",
              "      <td>29.293897538526853</td>\n",
              "      <td>29.6891885694335</td>\n",
              "      <td>276912400</td>\n",
              "      <td>27.389319</td>\n",
              "      <td>27.622303</td>\n",
              "      <td>78.926602</td>\n",
              "      <td>0.158819</td>\n",
              "      <td>30.164787</td>\n",
              "      <td>24.613850</td>\n",
              "    </tr>\n",
              "    <tr>\n",
              "      <th>38</th>\n",
              "      <td>2015-02-25</td>\n",
              "      <td>28.762377</td>\n",
              "      <td>29.389930567701946</td>\n",
              "      <td>28.61944717469499</td>\n",
              "      <td>29.38099555020321</td>\n",
              "      <td>298846800</td>\n",
              "      <td>27.613529</td>\n",
              "      <td>27.730882</td>\n",
              "      <td>66.672388</td>\n",
              "      <td>0.084741</td>\n",
              "      <td>30.051427</td>\n",
              "      <td>25.175632</td>\n",
              "    </tr>\n",
              "    <tr>\n",
              "      <th>39</th>\n",
              "      <td>2015-02-26</td>\n",
              "      <td>29.126396</td>\n",
              "      <td>29.226892955598142</td>\n",
              "      <td>28.275518247199624</td>\n",
              "      <td>28.762370963301535</td>\n",
              "      <td>365150000</td>\n",
              "      <td>27.787315</td>\n",
              "      <td>27.863788</td>\n",
              "      <td>69.159169</td>\n",
              "      <td>0.047844</td>\n",
              "      <td>30.134598</td>\n",
              "      <td>25.440033</td>\n",
              "    </tr>\n",
              "  </tbody>\n",
              "</table>\n",
              "</div>\n",
              "    <div class=\"colab-df-buttons\">\n",
              "\n",
              "  <div class=\"colab-df-container\">\n",
              "    <button class=\"colab-df-convert\" onclick=\"convertToInteractive('df-ed55b6ae-d41c-48be-ab04-e6b859ec0349')\"\n",
              "            title=\"Convert this dataframe to an interactive table.\"\n",
              "            style=\"display:none;\">\n",
              "\n",
              "  <svg xmlns=\"http://www.w3.org/2000/svg\" height=\"24px\" viewBox=\"0 -960 960 960\">\n",
              "    <path d=\"M120-120v-720h720v720H120Zm60-500h600v-160H180v160Zm220 220h160v-160H400v160Zm0 220h160v-160H400v160ZM180-400h160v-160H180v160Zm440 0h160v-160H620v160ZM180-180h160v-160H180v160Zm440 0h160v-160H620v160Z\"/>\n",
              "  </svg>\n",
              "    </button>\n",
              "\n",
              "  <style>\n",
              "    .colab-df-container {\n",
              "      display:flex;\n",
              "      gap: 12px;\n",
              "    }\n",
              "\n",
              "    .colab-df-convert {\n",
              "      background-color: #E8F0FE;\n",
              "      border: none;\n",
              "      border-radius: 50%;\n",
              "      cursor: pointer;\n",
              "      display: none;\n",
              "      fill: #1967D2;\n",
              "      height: 32px;\n",
              "      padding: 0 0 0 0;\n",
              "      width: 32px;\n",
              "    }\n",
              "\n",
              "    .colab-df-convert:hover {\n",
              "      background-color: #E2EBFA;\n",
              "      box-shadow: 0px 1px 2px rgba(60, 64, 67, 0.3), 0px 1px 3px 1px rgba(60, 64, 67, 0.15);\n",
              "      fill: #174EA6;\n",
              "    }\n",
              "\n",
              "    .colab-df-buttons div {\n",
              "      margin-bottom: 4px;\n",
              "    }\n",
              "\n",
              "    [theme=dark] .colab-df-convert {\n",
              "      background-color: #3B4455;\n",
              "      fill: #D2E3FC;\n",
              "    }\n",
              "\n",
              "    [theme=dark] .colab-df-convert:hover {\n",
              "      background-color: #434B5C;\n",
              "      box-shadow: 0px 1px 3px 1px rgba(0, 0, 0, 0.15);\n",
              "      filter: drop-shadow(0px 1px 2px rgba(0, 0, 0, 0.3));\n",
              "      fill: #FFFFFF;\n",
              "    }\n",
              "  </style>\n",
              "\n",
              "    <script>\n",
              "      const buttonEl =\n",
              "        document.querySelector('#df-ed55b6ae-d41c-48be-ab04-e6b859ec0349 button.colab-df-convert');\n",
              "      buttonEl.style.display =\n",
              "        google.colab.kernel.accessAllowed ? 'block' : 'none';\n",
              "\n",
              "      async function convertToInteractive(key) {\n",
              "        const element = document.querySelector('#df-ed55b6ae-d41c-48be-ab04-e6b859ec0349');\n",
              "        const dataTable =\n",
              "          await google.colab.kernel.invokeFunction('convertToInteractive',\n",
              "                                                    [key], {});\n",
              "        if (!dataTable) return;\n",
              "\n",
              "        const docLinkHtml = 'Like what you see? Visit the ' +\n",
              "          '<a target=\"_blank\" href=https://colab.research.google.com/notebooks/data_table.ipynb>data table notebook</a>'\n",
              "          + ' to learn more about interactive tables.';\n",
              "        element.innerHTML = '';\n",
              "        dataTable['output_type'] = 'display_data';\n",
              "        await google.colab.output.renderOutput(dataTable, element);\n",
              "        const docLink = document.createElement('div');\n",
              "        docLink.innerHTML = docLinkHtml;\n",
              "        element.appendChild(docLink);\n",
              "      }\n",
              "    </script>\n",
              "  </div>\n",
              "\n",
              "\n",
              "<div id=\"df-68cd4aed-856d-4c2a-9146-60fe2a2955b1\">\n",
              "  <button class=\"colab-df-quickchart\" onclick=\"quickchart('df-68cd4aed-856d-4c2a-9146-60fe2a2955b1')\"\n",
              "            title=\"Suggest charts\"\n",
              "            style=\"display:none;\">\n",
              "\n",
              "<svg xmlns=\"http://www.w3.org/2000/svg\" height=\"24px\"viewBox=\"0 0 24 24\"\n",
              "     width=\"24px\">\n",
              "    <g>\n",
              "        <path d=\"M19 3H5c-1.1 0-2 .9-2 2v14c0 1.1.9 2 2 2h14c1.1 0 2-.9 2-2V5c0-1.1-.9-2-2-2zM9 17H7v-7h2v7zm4 0h-2V7h2v10zm4 0h-2v-4h2v4z\"/>\n",
              "    </g>\n",
              "</svg>\n",
              "  </button>\n",
              "\n",
              "<style>\n",
              "  .colab-df-quickchart {\n",
              "      --bg-color: #E8F0FE;\n",
              "      --fill-color: #1967D2;\n",
              "      --hover-bg-color: #E2EBFA;\n",
              "      --hover-fill-color: #174EA6;\n",
              "      --disabled-fill-color: #AAA;\n",
              "      --disabled-bg-color: #DDD;\n",
              "  }\n",
              "\n",
              "  [theme=dark] .colab-df-quickchart {\n",
              "      --bg-color: #3B4455;\n",
              "      --fill-color: #D2E3FC;\n",
              "      --hover-bg-color: #434B5C;\n",
              "      --hover-fill-color: #FFFFFF;\n",
              "      --disabled-bg-color: #3B4455;\n",
              "      --disabled-fill-color: #666;\n",
              "  }\n",
              "\n",
              "  .colab-df-quickchart {\n",
              "    background-color: var(--bg-color);\n",
              "    border: none;\n",
              "    border-radius: 50%;\n",
              "    cursor: pointer;\n",
              "    display: none;\n",
              "    fill: var(--fill-color);\n",
              "    height: 32px;\n",
              "    padding: 0;\n",
              "    width: 32px;\n",
              "  }\n",
              "\n",
              "  .colab-df-quickchart:hover {\n",
              "    background-color: var(--hover-bg-color);\n",
              "    box-shadow: 0 1px 2px rgba(60, 64, 67, 0.3), 0 1px 3px 1px rgba(60, 64, 67, 0.15);\n",
              "    fill: var(--button-hover-fill-color);\n",
              "  }\n",
              "\n",
              "  .colab-df-quickchart-complete:disabled,\n",
              "  .colab-df-quickchart-complete:disabled:hover {\n",
              "    background-color: var(--disabled-bg-color);\n",
              "    fill: var(--disabled-fill-color);\n",
              "    box-shadow: none;\n",
              "  }\n",
              "\n",
              "  .colab-df-spinner {\n",
              "    border: 2px solid var(--fill-color);\n",
              "    border-color: transparent;\n",
              "    border-bottom-color: var(--fill-color);\n",
              "    animation:\n",
              "      spin 1s steps(1) infinite;\n",
              "  }\n",
              "\n",
              "  @keyframes spin {\n",
              "    0% {\n",
              "      border-color: transparent;\n",
              "      border-bottom-color: var(--fill-color);\n",
              "      border-left-color: var(--fill-color);\n",
              "    }\n",
              "    20% {\n",
              "      border-color: transparent;\n",
              "      border-left-color: var(--fill-color);\n",
              "      border-top-color: var(--fill-color);\n",
              "    }\n",
              "    30% {\n",
              "      border-color: transparent;\n",
              "      border-left-color: var(--fill-color);\n",
              "      border-top-color: var(--fill-color);\n",
              "      border-right-color: var(--fill-color);\n",
              "    }\n",
              "    40% {\n",
              "      border-color: transparent;\n",
              "      border-right-color: var(--fill-color);\n",
              "      border-top-color: var(--fill-color);\n",
              "    }\n",
              "    60% {\n",
              "      border-color: transparent;\n",
              "      border-right-color: var(--fill-color);\n",
              "    }\n",
              "    80% {\n",
              "      border-color: transparent;\n",
              "      border-right-color: var(--fill-color);\n",
              "      border-bottom-color: var(--fill-color);\n",
              "    }\n",
              "    90% {\n",
              "      border-color: transparent;\n",
              "      border-bottom-color: var(--fill-color);\n",
              "    }\n",
              "  }\n",
              "</style>\n",
              "\n",
              "  <script>\n",
              "    async function quickchart(key) {\n",
              "      const quickchartButtonEl =\n",
              "        document.querySelector('#' + key + ' button');\n",
              "      quickchartButtonEl.disabled = true;  // To prevent multiple clicks.\n",
              "      quickchartButtonEl.classList.add('colab-df-spinner');\n",
              "      try {\n",
              "        const charts = await google.colab.kernel.invokeFunction(\n",
              "            'suggestCharts', [key], {});\n",
              "      } catch (error) {\n",
              "        console.error('Error during call to suggestCharts:', error);\n",
              "      }\n",
              "      quickchartButtonEl.classList.remove('colab-df-spinner');\n",
              "      quickchartButtonEl.classList.add('colab-df-quickchart-complete');\n",
              "    }\n",
              "    (() => {\n",
              "      let quickchartButtonEl =\n",
              "        document.querySelector('#df-68cd4aed-856d-4c2a-9146-60fe2a2955b1 button');\n",
              "      quickchartButtonEl.style.display =\n",
              "        google.colab.kernel.accessAllowed ? 'block' : 'none';\n",
              "    })();\n",
              "  </script>\n",
              "</div>\n",
              "\n",
              "    </div>\n",
              "  </div>\n"
            ],
            "application/vnd.google.colaboratory.intrinsic+json": {
              "type": "dataframe",
              "variable_name": "df",
              "repr_error": "0"
            }
          },
          "metadata": {},
          "execution_count": 7
        }
      ]
    },
    {
      "cell_type": "markdown",
      "source": [
        "# Scale & Create Sequences"
      ],
      "metadata": {
        "id": "IjGXMg9HMP9a"
      }
    },
    {
      "cell_type": "code",
      "source": [
        "# Select relevant features\n",
        "features = ['Close', 'SMA_20', 'EMA_20', 'RSI', 'MACD', 'BB_High', 'BB_Low']\n",
        "data = df[features].values\n",
        "\n",
        "# Normalize\n",
        "scaler = MinMaxScaler()\n",
        "scaled_data = scaler.fit_transform(data)\n",
        "joblib.dump(scaler, \"data/scaler_multi.save\")\n",
        "\n",
        "# Sequence builder\n",
        "def create_sequences(data, time_step=60):\n",
        "    X, y = [], []\n",
        "    for i in range(len(data) - time_step):\n",
        "        X.append(data[i:i+time_step])\n",
        "        y.append(data[i+time_step][0])  # Target is 'Close'\n",
        "    return np.array(X), np.array(y)\n",
        "\n",
        "X, y = create_sequences(scaled_data)\n"
      ],
      "metadata": {
        "id": "yvUq8yJ4MFHv"
      },
      "execution_count": 8,
      "outputs": []
    },
    {
      "cell_type": "markdown",
      "source": [
        "# Train-Test Split & Reshape\n",
        "\n"
      ],
      "metadata": {
        "id": "_vq8GKhVMS8u"
      }
    },
    {
      "cell_type": "code",
      "source": [
        "X_train, X_test, y_train, y_test = train_test_split(X, y, test_size=0.2, shuffle=False)\n",
        "\n",
        "# Input format for LSTM: [samples, time steps, features]\n",
        "print(\"X shape:\", X_train.shape)\n"
      ],
      "metadata": {
        "colab": {
          "base_uri": "https://localhost:8080/"
        },
        "id": "8tHsl2mmMFFZ",
        "outputId": "572074d4-1e6e-4d50-ac7f-86d63121c38c"
      },
      "execution_count": 9,
      "outputs": [
        {
          "output_type": "stream",
          "name": "stdout",
          "text": [
            "X shape: (1938, 60, 7)\n"
          ]
        }
      ]
    },
    {
      "cell_type": "markdown",
      "source": [
        "# Build and Train Model\n",
        "\n"
      ],
      "metadata": {
        "id": "efHNBJCXMXzR"
      }
    },
    {
      "cell_type": "code",
      "source": [
        "model = Sequential([\n",
        "    Bidirectional(LSTM(128, return_sequences=True), input_shape=(X_train.shape[1], X_train.shape[2])),\n",
        "    Dropout(0.3),\n",
        "    Bidirectional(LSTM(64)),\n",
        "    Dropout(0.3),\n",
        "    Dense(32, activation='relu'),\n",
        "    Dense(1)\n",
        "])\n",
        "\n",
        "# Compile\n",
        "model.compile(optimizer=Adam(learning_rate=0.001), loss='mean_squared_error')\n",
        "\n",
        "# Callbacks\n",
        "callbacks = [\n",
        "    EarlyStopping(monitor='val_loss', patience=10, restore_best_weights=True),\n",
        "    ModelCheckpoint(\"data/best_model.h5\", monitor='val_loss', save_best_only=True)\n",
        "]\n",
        "\n",
        "# Train\n",
        "history = model.fit(\n",
        "    X_train, y_train,\n",
        "    validation_split=0.2,\n",
        "    epochs=100,\n",
        "    batch_size=32,\n",
        "    callbacks=callbacks\n",
        ")\n"
      ],
      "metadata": {
        "colab": {
          "base_uri": "https://localhost:8080/"
        },
        "id": "EByrzJPdMXYI",
        "outputId": "a457f730-f7a7-4425-bbab-7d8645a73755"
      },
      "execution_count": 10,
      "outputs": [
        {
          "output_type": "stream",
          "name": "stdout",
          "text": [
            "Epoch 1/100\n"
          ]
        },
        {
          "output_type": "stream",
          "name": "stderr",
          "text": [
            "/usr/local/lib/python3.11/dist-packages/keras/src/layers/rnn/bidirectional.py:107: UserWarning: Do not pass an `input_shape`/`input_dim` argument to a layer. When using Sequential models, prefer using an `Input(shape)` object as the first layer in the model instead.\n",
            "  super().__init__(**kwargs)\n"
          ]
        },
        {
          "output_type": "stream",
          "name": "stdout",
          "text": [
            "\u001b[1m49/49\u001b[0m \u001b[32m━━━━━━━━━━━━━━━━━━━━\u001b[0m\u001b[37m\u001b[0m \u001b[1m0s\u001b[0m 175ms/step - loss: 0.0063"
          ]
        },
        {
          "output_type": "stream",
          "name": "stderr",
          "text": [
            "WARNING:absl:You are saving your model as an HDF5 file via `model.save()` or `keras.saving.save_model(model)`. This file format is considered legacy. We recommend using instead the native Keras format, e.g. `model.save('my_model.keras')` or `keras.saving.save_model(model, 'my_model.keras')`. \n"
          ]
        },
        {
          "output_type": "stream",
          "name": "stdout",
          "text": [
            "\b\b\b\b\b\b\b\b\b\b\b\b\b\b\b\b\b\b\b\b\b\b\b\b\b\b\b\b\b\b\b\b\b\b\b\b\b\b\b\b\b\b\b\b\b\b\b\b\b\b\b\b\b\b\b\r\u001b[1m49/49\u001b[0m \u001b[32m━━━━━━━━━━━━━━━━━━━━\u001b[0m\u001b[37m\u001b[0m \u001b[1m15s\u001b[0m 203ms/step - loss: 0.0062 - val_loss: 0.0013\n",
            "Epoch 2/100\n",
            "\u001b[1m49/49\u001b[0m \u001b[32m━━━━━━━━━━━━━━━━━━━━\u001b[0m\u001b[37m\u001b[0m \u001b[1m0s\u001b[0m 165ms/step - loss: 9.3078e-04"
          ]
        },
        {
          "output_type": "stream",
          "name": "stderr",
          "text": [
            "WARNING:absl:You are saving your model as an HDF5 file via `model.save()` or `keras.saving.save_model(model)`. This file format is considered legacy. We recommend using instead the native Keras format, e.g. `model.save('my_model.keras')` or `keras.saving.save_model(model, 'my_model.keras')`. \n"
          ]
        },
        {
          "output_type": "stream",
          "name": "stdout",
          "text": [
            "\b\b\b\b\b\b\b\b\b\b\b\b\b\b\b\b\b\b\b\b\b\b\b\b\b\b\b\b\b\b\b\b\b\b\b\b\b\b\b\b\b\b\b\b\b\b\b\b\b\b\b\b\b\b\b\b\b\b\b\r\u001b[1m49/49\u001b[0m \u001b[32m━━━━━━━━━━━━━━━━━━━━\u001b[0m\u001b[37m\u001b[0m \u001b[1m9s\u001b[0m 179ms/step - loss: 9.2947e-04 - val_loss: 9.4599e-04\n",
            "Epoch 3/100\n",
            "\u001b[1m49/49\u001b[0m \u001b[32m━━━━━━━━━━━━━━━━━━━━\u001b[0m\u001b[37m\u001b[0m \u001b[1m8s\u001b[0m 172ms/step - loss: 5.6372e-04 - val_loss: 0.0014\n",
            "Epoch 4/100\n",
            "\u001b[1m49/49\u001b[0m \u001b[32m━━━━━━━━━━━━━━━━━━━━\u001b[0m\u001b[37m\u001b[0m \u001b[1m8s\u001b[0m 173ms/step - loss: 5.6176e-04 - val_loss: 0.0010\n",
            "Epoch 5/100\n",
            "\u001b[1m49/49\u001b[0m \u001b[32m━━━━━━━━━━━━━━━━━━━━\u001b[0m\u001b[37m\u001b[0m \u001b[1m8s\u001b[0m 173ms/step - loss: 5.3395e-04 - val_loss: 0.0019\n",
            "Epoch 6/100\n",
            "\u001b[1m49/49\u001b[0m \u001b[32m━━━━━━━━━━━━━━━━━━━━\u001b[0m\u001b[37m\u001b[0m \u001b[1m0s\u001b[0m 158ms/step - loss: 3.9688e-04"
          ]
        },
        {
          "output_type": "stream",
          "name": "stderr",
          "text": [
            "WARNING:absl:You are saving your model as an HDF5 file via `model.save()` or `keras.saving.save_model(model)`. This file format is considered legacy. We recommend using instead the native Keras format, e.g. `model.save('my_model.keras')` or `keras.saving.save_model(model, 'my_model.keras')`. \n"
          ]
        },
        {
          "output_type": "stream",
          "name": "stdout",
          "text": [
            "\b\b\b\b\b\b\b\b\b\b\b\b\b\b\b\b\b\b\b\b\b\b\b\b\b\b\b\b\b\b\b\b\b\b\b\b\b\b\b\b\b\b\b\b\b\b\b\b\b\b\b\b\b\b\b\b\b\b\b\r\u001b[1m49/49\u001b[0m \u001b[32m━━━━━━━━━━━━━━━━━━━━\u001b[0m\u001b[37m\u001b[0m \u001b[1m8s\u001b[0m 171ms/step - loss: 3.9651e-04 - val_loss: 8.5142e-04\n",
            "Epoch 7/100\n",
            "\u001b[1m49/49\u001b[0m \u001b[32m━━━━━━━━━━━━━━━━━━━━\u001b[0m\u001b[37m\u001b[0m \u001b[1m8s\u001b[0m 172ms/step - loss: 3.8554e-04 - val_loss: 0.0023\n",
            "Epoch 8/100\n",
            "\u001b[1m49/49\u001b[0m \u001b[32m━━━━━━━━━━━━━━━━━━━━\u001b[0m\u001b[37m\u001b[0m \u001b[1m0s\u001b[0m 159ms/step - loss: 3.8261e-04"
          ]
        },
        {
          "output_type": "stream",
          "name": "stderr",
          "text": [
            "WARNING:absl:You are saving your model as an HDF5 file via `model.save()` or `keras.saving.save_model(model)`. This file format is considered legacy. We recommend using instead the native Keras format, e.g. `model.save('my_model.keras')` or `keras.saving.save_model(model, 'my_model.keras')`. \n"
          ]
        },
        {
          "output_type": "stream",
          "name": "stdout",
          "text": [
            "\b\b\b\b\b\b\b\b\b\b\b\b\b\b\b\b\b\b\b\b\b\b\b\b\b\b\b\b\b\b\b\b\b\b\b\b\b\b\b\b\b\b\b\b\b\b\b\b\b\b\b\b\b\b\b\b\b\b\b\r\u001b[1m49/49\u001b[0m \u001b[32m━━━━━━━━━━━━━━━━━━━━\u001b[0m\u001b[37m\u001b[0m \u001b[1m8s\u001b[0m 172ms/step - loss: 3.8269e-04 - val_loss: 6.7773e-04\n",
            "Epoch 9/100\n",
            "\u001b[1m49/49\u001b[0m \u001b[32m━━━━━━━━━━━━━━━━━━━━\u001b[0m\u001b[37m\u001b[0m \u001b[1m8s\u001b[0m 173ms/step - loss: 4.1549e-04 - val_loss: 8.8137e-04\n",
            "Epoch 10/100\n",
            "\u001b[1m49/49\u001b[0m \u001b[32m━━━━━━━━━━━━━━━━━━━━\u001b[0m\u001b[37m\u001b[0m \u001b[1m8s\u001b[0m 173ms/step - loss: 3.1236e-04 - val_loss: 0.0023\n",
            "Epoch 11/100\n",
            "\u001b[1m49/49\u001b[0m \u001b[32m━━━━━━━━━━━━━━━━━━━━\u001b[0m\u001b[37m\u001b[0m \u001b[1m8s\u001b[0m 173ms/step - loss: 2.8934e-04 - val_loss: 6.9692e-04\n",
            "Epoch 12/100\n",
            "\u001b[1m49/49\u001b[0m \u001b[32m━━━━━━━━━━━━━━━━━━━━\u001b[0m\u001b[37m\u001b[0m \u001b[1m8s\u001b[0m 174ms/step - loss: 3.3795e-04 - val_loss: 0.0017\n",
            "Epoch 13/100\n",
            "\u001b[1m49/49\u001b[0m \u001b[32m━━━━━━━━━━━━━━━━━━━━\u001b[0m\u001b[37m\u001b[0m \u001b[1m8s\u001b[0m 173ms/step - loss: 2.5929e-04 - val_loss: 0.0012\n",
            "Epoch 14/100\n",
            "\u001b[1m49/49\u001b[0m \u001b[32m━━━━━━━━━━━━━━━━━━━━\u001b[0m\u001b[37m\u001b[0m \u001b[1m8s\u001b[0m 174ms/step - loss: 2.4244e-04 - val_loss: 8.6844e-04\n",
            "Epoch 15/100\n",
            "\u001b[1m49/49\u001b[0m \u001b[32m━━━━━━━━━━━━━━━━━━━━\u001b[0m\u001b[37m\u001b[0m \u001b[1m8s\u001b[0m 172ms/step - loss: 3.0536e-04 - val_loss: 0.0018\n",
            "Epoch 16/100\n",
            "\u001b[1m49/49\u001b[0m \u001b[32m━━━━━━━━━━━━━━━━━━━━\u001b[0m\u001b[37m\u001b[0m \u001b[1m9s\u001b[0m 176ms/step - loss: 2.8275e-04 - val_loss: 0.0023\n",
            "Epoch 17/100\n",
            "\u001b[1m49/49\u001b[0m \u001b[32m━━━━━━━━━━━━━━━━━━━━\u001b[0m\u001b[37m\u001b[0m \u001b[1m8s\u001b[0m 174ms/step - loss: 2.8775e-04 - val_loss: 9.0217e-04\n",
            "Epoch 18/100\n",
            "\u001b[1m49/49\u001b[0m \u001b[32m━━━━━━━━━━━━━━━━━━━━\u001b[0m\u001b[37m\u001b[0m \u001b[1m8s\u001b[0m 172ms/step - loss: 2.2415e-04 - val_loss: 0.0019\n"
          ]
        }
      ]
    },
    {
      "cell_type": "markdown",
      "source": [
        "# Predict and Inverse Scale\n"
      ],
      "metadata": {
        "id": "4Rf4rS-JMcRD"
      }
    },
    {
      "cell_type": "code",
      "source": [
        "# Predict\n",
        "predictions = model.predict(X_test)\n",
        "\n",
        "# Rescale\n",
        "scaler = joblib.load(\"data/scaler_multi.save\")\n",
        "predicted_prices = scaler.inverse_transform(\n",
        "    np.hstack((predictions, np.zeros((predictions.shape[0], scaled_data.shape[1]-1))))\n",
        ")[:, 0]\n",
        "\n",
        "actual_prices = scaler.inverse_transform(\n",
        "    np.hstack((y_test.reshape(-1, 1), np.zeros((y_test.shape[0], scaled_data.shape[1]-1))))\n",
        ")[:, 0]\n"
      ],
      "metadata": {
        "colab": {
          "base_uri": "https://localhost:8080/"
        },
        "id": "MpHGyVhrMeTS",
        "outputId": "0d7293d9-8430-4693-97c3-03c27f050dce"
      },
      "execution_count": 11,
      "outputs": [
        {
          "output_type": "stream",
          "name": "stdout",
          "text": [
            "\u001b[1m16/16\u001b[0m \u001b[32m━━━━━━━━━━━━━━━━━━━━\u001b[0m\u001b[37m\u001b[0m \u001b[1m2s\u001b[0m 83ms/step\n"
          ]
        }
      ]
    },
    {
      "cell_type": "markdown",
      "source": [
        "# Plot the Results"
      ],
      "metadata": {
        "id": "LunH-BhnNtIT"
      }
    },
    {
      "cell_type": "code",
      "source": [
        "plt.figure(figsize=(14, 7))\n",
        "plt.plot(actual_prices, color='blue', label='Actual Stock Price')\n",
        "plt.plot(predicted_prices, color='red', label='Predicted Stock Price')\n",
        "plt.title('AAPL Stock Price Prediction (Enhanced LSTM)')\n",
        "plt.xlabel('Time')\n",
        "plt.ylabel('Price (USD)')\n",
        "plt.legend()\n",
        "plt.show()\n"
      ],
      "metadata": {
        "colab": {
          "base_uri": "https://localhost:8080/",
          "height": 641
        },
        "id": "LptYR7a2NwXi",
        "outputId": "d4ad69bb-9dfe-4ef8-ef45-6c3d15b962f3"
      },
      "execution_count": 12,
      "outputs": [
        {
          "output_type": "display_data",
          "data": {
            "text/plain": [
              "<Figure size 1400x700 with 1 Axes>"
            ],
            "image/png": "[encoded data removed]"
          },
          "metadata": {}
        }
      ]
    },
    {
      "cell_type": "markdown",
      "source": [
        "# Save the Model in .h5 or .keras Format"
      ],
      "metadata": {
        "id": "3iSs6R_kQow6"
      }
    },
    {
      "cell_type": "code",
      "source": [
        "ModelCheckpoint(\"data/best_model.h5\", monitor='val_loss', save_best_only=True)\n"
      ],
      "metadata": {
        "colab": {
          "base_uri": "https://localhost:8080/"
        },
        "id": "JbwEwunRQrZU",
        "outputId": "8741cdde-fd2c-452e-a910-5174e12554e7"
      },
      "execution_count": 14,
      "outputs": [
        {
          "output_type": "execute_result",
          "data": {
            "text/plain": [
              "<keras.src.callbacks.model_checkpoint.ModelCheckpoint at 0x7e868c0ff5d0>"
            ]
          },
          "metadata": {},
          "execution_count": 14
        }
      ]
    },
    {
      "cell_type": "code",
      "source": [
        "model.save(\"data/final_model.keras\")  # or use .h5 extension"
      ],
      "metadata": {
        "id": "RD2I0g4jPT_M"
      },
      "execution_count": 15,
      "outputs": []
    },
    {
      "cell_type": "markdown",
      "source": [
        "# Download the Model in Google Colab"
      ],
      "metadata": {
        "id": "G29wwkWLQyCk"
      }
    },
    {
      "cell_type": "code",
      "source": [
        "from google.colab import files\n",
        "files.download(\"data/final_model.keras\")  # Or \"data/best_model.h5\"\n"
      ],
      "metadata": {
        "colab": {
          "base_uri": "https://localhost:8080/",
          "height": 17
        },
        "id": "mMbuc6QGQzav",
        "outputId": "36d1ebdb-3cd3-4103-957f-8af672e8f325"
      },
      "execution_count": 16,
      "outputs": [
        {
          "output_type": "display_data",
          "data": {
            "text/plain": [
              "<IPython.core.display.Javascript object>"
            ],
            "application/javascript": [
              "\n",
              "    async function download(id, filename, size) {\n",
              "      if (!google.colab.kernel.accessAllowed) {\n",
              "        return;\n",
              "      }\n",
              "      const div = document.createElement('div');\n",
              "      const label = document.createElement('label');\n",
              "      label.textContent = `Downloading \"${filename}\": `;\n",
              "      div.appendChild(label);\n",
              "      const progress = document.createElement('progress');\n",
              "      progress.max = size;\n",
              "      div.appendChild(progress);\n",
              "      document.body.appendChild(div);\n",
              "\n",
              "      const buffers = [];\n",
              "      let downloaded = 0;\n",
              "\n",
              "      const channel = await google.colab.kernel.comms.open(id);\n",
              "      // Send a message to notify the kernel that we're ready.\n",
              "      channel.send({})\n",
              "\n",
              "      for await (const message of channel.messages) {\n",
              "        // Send a message to notify the kernel that we're ready.\n",
              "        channel.send({})\n",
              "        if (message.buffers) {\n",
              "          for (const buffer of message.buffers) {\n",
              "            buffers.push(buffer);\n",
              "            downloaded += buffer.byteLength;\n",
              "            progress.value = downloaded;\n",
              "          }\n",
              "        }\n",
              "      }\n",
              "      const blob = new Blob(buffers, {type: 'application/binary'});\n",
              "      const a = document.createElement('a');\n",
              "      a.href = window.URL.createObjectURL(blob);\n",
              "      a.download = filename;\n",
              "      div.appendChild(a);\n",
              "      a.click();\n",
              "      div.remove();\n",
              "    }\n",
              "  "
            ]
          },
          "metadata": {}
        },
        {
          "output_type": "display_data",
          "data": {
            "text/plain": [
              "<IPython.core.display.Javascript object>"
            ],
            "application/javascript": [
              "download(\"download_8e700842-c081-4e9f-acf9-f2799d22ab32\", \"final_model.keras\", 3755643)"
            ]
          },
          "metadata": {}
        }
      ]
    },
    {
      "cell_type": "markdown",
      "source": [
        "# Optional – Save the Scaler Too\n"
      ],
      "metadata": {
        "id": "dzCvZ-NfQ3E2"
      }
    },
    {
      "cell_type": "code",
      "source": [
        "\n",
        "import joblib\n",
        "joblib.dump(scaler, \"data/scaler.pkl\")\n",
        "files.download(\"data/scaler.pkl\")\n"
      ],
      "metadata": {
        "colab": {
          "base_uri": "https://localhost:8080/",
          "height": 17
        },
        "id": "ZUC0rU46Q6rw",
        "outputId": "cb1057ac-cf86-4f2f-9983-dba4e44f831d"
      },
      "execution_count": 17,
      "outputs": [
        {
          "output_type": "display_data",
          "data": {
            "text/plain": [
              "<IPython.core.display.Javascript object>"
            ],
            "application/javascript": [
              "\n",
              "    async function download(id, filename, size) {\n",
              "      if (!google.colab.kernel.accessAllowed) {\n",
              "        return;\n",
              "      }\n",
              "      const div = document.createElement('div');\n",
              "      const label = document.createElement('label');\n",
              "      label.textContent = `Downloading \"${filename}\": `;\n",
              "      div.appendChild(label);\n",
              "      const progress = document.createElement('progress');\n",
              "      progress.max = size;\n",
              "      div.appendChild(progress);\n",
              "      document.body.appendChild(div);\n",
              "\n",
              "      const buffers = [];\n",
              "      let downloaded = 0;\n",
              "\n",
              "      const channel = await google.colab.kernel.comms.open(id);\n",
              "      // Send a message to notify the kernel that we're ready.\n",
              "      channel.send({})\n",
              "\n",
              "      for await (const message of channel.messages) {\n",
              "        // Send a message to notify the kernel that we're ready.\n",
              "        channel.send({})\n",
              "        if (message.buffers) {\n",
              "          for (const buffer of message.buffers) {\n",
              "            buffers.push(buffer);\n",
              "            downloaded += buffer.byteLength;\n",
              "            progress.value = downloaded;\n",
              "          }\n",
              "        }\n",
              "      }\n",
              "      const blob = new Blob(buffers, {type: 'application/binary'});\n",
              "      const a = document.createElement('a');\n",
              "      a.href = window.URL.createObjectURL(blob);\n",
              "      a.download = filename;\n",
              "      div.appendChild(a);\n",
              "      a.click();\n",
              "      div.remove();\n",
              "    }\n",
              "  "
            ]
          },
          "metadata": {}
        },
        {
          "output_type": "display_data",
          "data": {
            "text/plain": [
              "<IPython.core.display.Javascript object>"
            ],
            "application/javascript": [
              "download(\"download_61292a25-0a60-402f-bbd3-3c0d4bd654bc\", \"scaler.pkl\", 959)"
            ]
          },
          "metadata": {}
        }
      ]
    },
    {
      "cell_type": "markdown",
      "source": [
        "# Load the Model Later"
      ],
      "metadata": {
        "id": "OHHmPSoKRPSg"
      }
    },
    {
      "cell_type": "code",
      "source": [
        "\"\"\"\n",
        "from tensorflow.keras.models import load_model\n",
        "import joblib\n",
        "\n",
        "model = load_model(\"data/final_model.keras\")  # Or best_model.h5\n",
        "scaler = joblib.load(\"data/scaler.pkl\")\n",
        "\n",
        "\"\"\""
      ],
      "metadata": {
        "id": "JKyGYFmDRTmg"
      },
      "execution_count": null,
      "outputs": []
    },
    {
      "cell_type": "markdown",
      "source": [],
      "metadata": {
        "id": "mEHLymq9Q2xx"
      }
    },
    {
      "cell_type": "markdown",
      "source": [
        "# Another One!! Another One!!"
      ],
      "metadata": {
        "id": "mLT-O3kFRgtU"
      }
    },
    {
      "cell_type": "markdown",
      "source": [
        "## Setup & Download Data\n"
      ],
      "metadata": {
        "id": "zGnwSDpGRn6S"
      }
    },
    {
      "cell_type": "code",
      "source": [
        "!pip install yfinance ta keras-tuner scikit-learn -q\n",
        "import os\n",
        "os.makedirs(\"data\", exist_ok=True)\n",
        "\n",
        "import yfinance as yf\n",
        "import pandas as pd\n",
        "\n",
        "df = yf.download(\"AAPL\", start=\"2015-01-01\", end=\"2025-01-01\")\n",
        "df.to_csv(\"data/raw_stock1.csv\")\n"
      ],
      "metadata": {
        "colab": {
          "base_uri": "https://localhost:8080/"
        },
        "id": "p9q8mkrcRnMf",
        "outputId": "99cf4d0a-c173-4d74-c360-396527f8d7f7"
      },
      "execution_count": 19,
      "outputs": [
        {
          "output_type": "stream",
          "name": "stderr",
          "text": [
            "\r[*********************100%***********************]  1 of 1 completed\n"
          ]
        }
      ]
    },
    {
      "cell_type": "markdown",
      "source": [
        "## Add Technical Indicators"
      ],
      "metadata": {
        "id": "TjdX48aWRtCy"
      }
    },
    {
      "cell_type": "code",
      "source": [
        "import ta\n",
        "\n",
        "df = pd.read_csv(\"data/raw_stock1.csv\")\n",
        "df['Close'] = pd.to_numeric(df['Close'], errors='coerce')\n",
        "df.dropna(subset=['Close'], inplace=True)\n",
        "\n",
        "df['SMA_20'] = ta.trend.sma_indicator(df['Close'], window=20)\n",
        "df['EMA_20'] = ta.trend.ema_indicator(df['Close'], window=20)\n",
        "df['RSI'] = ta.momentum.rsi(df['Close'], window=14)\n",
        "df['MACD'] = ta.trend.macd_diff(df['Close'])\n",
        "bb = ta.volatility.BollingerBands(df['Close'], window=20)\n",
        "df['BB_High'] = bb.bollinger_hband()\n",
        "df['BB_Low'] = bb.bollinger_lband()\n",
        "\n",
        "df.dropna(inplace=True)\n",
        "df.to_csv(\"data/processed_stock.csv\", index=False)\n"
      ],
      "metadata": {
        "id": "zoGk_Pn4Rvzb"
      },
      "execution_count": 20,
      "outputs": []
    },
    {
      "cell_type": "markdown",
      "source": [
        "## Prepare Sequences"
      ],
      "metadata": {
        "id": "YyrACDRERynV"
      }
    },
    {
      "cell_type": "code",
      "source": [
        "import numpy as np\n",
        "from sklearn.preprocessing import RobustScaler\n",
        "from sklearn.model_selection import train_test_split\n",
        "\n",
        "df = pd.read_csv(\"data/processed_stock.csv\")\n",
        "features = ['Close', 'SMA_20', 'EMA_20', 'RSI', 'MACD', 'BB_High', 'BB_Low']\n",
        "data = df[features].values\n",
        "\n",
        "scaler = RobustScaler()\n",
        "scaled_data = scaler.fit_transform(data)\n",
        "\n",
        "def create_dataset(dataset, time_step=60):\n",
        "    X, y = [], []\n",
        "    for i in range(time_step, len(dataset)):\n",
        "        X.append(dataset[i - time_step:i])\n",
        "        y.append(dataset[i, 0])\n",
        "    return np.array(X), np.array(y)\n",
        "\n",
        "X, y = create_dataset(scaled_data)\n",
        "X_train, X_test, y_train, y_test = train_test_split(X, y, test_size=0.2, shuffle=False)\n"
      ],
      "metadata": {
        "id": "u5oVkQ_jRyEy"
      },
      "execution_count": 21,
      "outputs": []
    },
    {
      "cell_type": "markdown",
      "source": [
        "## Define Model & Save Version 1"
      ],
      "metadata": {
        "id": "fgCcTmRsR2z-"
      }
    },
    {
      "cell_type": "code",
      "source": [
        "from tensorflow.keras.models import Sequential, load_model\n",
        "from tensorflow.keras.layers import Dense, Dropout, LSTM, Bidirectional\n",
        "from tensorflow.keras.callbacks import EarlyStopping, ModelCheckpoint\n",
        "\n",
        "# Define first model (V1)\n",
        "model_v1 = Sequential([\n",
        "    Bidirectional(LSTM(64, return_sequences=True), input_shape=(X.shape[1], X.shape[2])),\n",
        "    Dropout(0.2),\n",
        "    Bidirectional(LSTM(32)),\n",
        "    Dropout(0.2),\n",
        "    Dense(1)\n",
        "])\n",
        "\n",
        "model_v1.compile(optimizer='adam', loss='mean_squared_error')\n",
        "\n",
        "es = EarlyStopping(monitor='val_loss', patience=5, restore_best_weights=True)\n",
        "mc = ModelCheckpoint(\"data/model_v1.keras\", save_best_only=True)\n",
        "\n",
        "model_v1.fit(X_train, y_train, validation_split=0.1, epochs=100, batch_size=32, callbacks=[es, mc])\n"
      ],
      "metadata": {
        "colab": {
          "base_uri": "https://localhost:8080/"
        },
        "id": "lL-JAGbcR3mL",
        "outputId": "fcaabf99-33c5-4431-cf73-cf6c8d59610a"
      },
      "execution_count": 22,
      "outputs": [
        {
          "output_type": "stream",
          "name": "stdout",
          "text": [
            "Epoch 1/100\n"
          ]
        },
        {
          "output_type": "stream",
          "name": "stderr",
          "text": [
            "/usr/local/lib/python3.11/dist-packages/keras/src/layers/rnn/bidirectional.py:107: UserWarning: Do not pass an `input_shape`/`input_dim` argument to a layer. When using Sequential models, prefer using an `Input(shape)` object as the first layer in the model instead.\n",
            "  super().__init__(**kwargs)\n"
          ]
        },
        {
          "output_type": "stream",
          "name": "stdout",
          "text": [
            "\u001b[1m55/55\u001b[0m \u001b[32m━━━━━━━━━━━━━━━━━━━━\u001b[0m\u001b[37m\u001b[0m \u001b[1m9s\u001b[0m 88ms/step - loss: 0.0293 - val_loss: 0.0046\n",
            "Epoch 2/100\n",
            "\u001b[1m55/55\u001b[0m \u001b[32m━━━━━━━━━━━━━━━━━━━━\u001b[0m\u001b[37m\u001b[0m \u001b[1m4s\u001b[0m 71ms/step - loss: 0.0035 - val_loss: 0.0072\n",
            "Epoch 3/100\n",
            "\u001b[1m55/55\u001b[0m \u001b[32m━━━━━━━━━━━━━━━━━━━━\u001b[0m\u001b[37m\u001b[0m \u001b[1m4s\u001b[0m 71ms/step - loss: 0.0030 - val_loss: 0.0028\n",
            "Epoch 4/100\n",
            "\u001b[1m55/55\u001b[0m \u001b[32m━━━━━━━━━━━━━━━━━━━━\u001b[0m\u001b[37m\u001b[0m \u001b[1m4s\u001b[0m 73ms/step - loss: 0.0021 - val_loss: 0.0021\n",
            "Epoch 5/100\n",
            "\u001b[1m55/55\u001b[0m \u001b[32m━━━━━━━━━━━━━━━━━━━━\u001b[0m\u001b[37m\u001b[0m \u001b[1m5s\u001b[0m 85ms/step - loss: 0.0021 - val_loss: 0.0107\n",
            "Epoch 6/100\n",
            "\u001b[1m55/55\u001b[0m \u001b[32m━━━━━━━━━━━━━━━━━━━━\u001b[0m\u001b[37m\u001b[0m \u001b[1m4s\u001b[0m 71ms/step - loss: 0.0024 - val_loss: 0.0018\n",
            "Epoch 7/100\n",
            "\u001b[1m55/55\u001b[0m \u001b[32m━━━━━━━━━━━━━━━━━━━━\u001b[0m\u001b[37m\u001b[0m \u001b[1m4s\u001b[0m 71ms/step - loss: 0.0019 - val_loss: 0.0029\n",
            "Epoch 8/100\n",
            "\u001b[1m55/55\u001b[0m \u001b[32m━━━━━━━━━━━━━━━━━━━━\u001b[0m\u001b[37m\u001b[0m \u001b[1m4s\u001b[0m 72ms/step - loss: 0.0016 - val_loss: 0.0045\n",
            "Epoch 9/100\n",
            "\u001b[1m55/55\u001b[0m \u001b[32m━━━━━━━━━━━━━━━━━━━━\u001b[0m\u001b[37m\u001b[0m \u001b[1m4s\u001b[0m 72ms/step - loss: 0.0016 - val_loss: 0.0066\n",
            "Epoch 10/100\n",
            "\u001b[1m55/55\u001b[0m \u001b[32m━━━━━━━━━━━━━━━━━━━━\u001b[0m\u001b[37m\u001b[0m \u001b[1m4s\u001b[0m 72ms/step - loss: 0.0014 - val_loss: 0.0019\n",
            "Epoch 11/100\n",
            "\u001b[1m55/55\u001b[0m \u001b[32m━━━━━━━━━━━━━━━━━━━━\u001b[0m\u001b[37m\u001b[0m \u001b[1m4s\u001b[0m 71ms/step - loss: 0.0017 - val_loss: 0.0018\n",
            "Epoch 12/100\n",
            "\u001b[1m55/55\u001b[0m \u001b[32m━━━━━━━━━━━━━━━━━━━━\u001b[0m\u001b[37m\u001b[0m \u001b[1m4s\u001b[0m 73ms/step - loss: 0.0015 - val_loss: 0.0028\n",
            "Epoch 13/100\n",
            "\u001b[1m55/55\u001b[0m \u001b[32m━━━━━━━━━━━━━━━━━━━━\u001b[0m\u001b[37m\u001b[0m \u001b[1m4s\u001b[0m 72ms/step - loss: 0.0016 - val_loss: 0.0023\n",
            "Epoch 14/100\n",
            "\u001b[1m55/55\u001b[0m \u001b[32m━━━━━━━━━━━━━━━━━━━━\u001b[0m\u001b[37m\u001b[0m \u001b[1m4s\u001b[0m 74ms/step - loss: 0.0014 - val_loss: 0.0044\n",
            "Epoch 15/100\n",
            "\u001b[1m55/55\u001b[0m \u001b[32m━━━━━━━━━━━━━━━━━━━━\u001b[0m\u001b[37m\u001b[0m \u001b[1m4s\u001b[0m 69ms/step - loss: 0.0015 - val_loss: 0.0033\n",
            "Epoch 16/100\n",
            "\u001b[1m55/55\u001b[0m \u001b[32m━━━━━━━━━━━━━━━━━━━━\u001b[0m\u001b[37m\u001b[0m \u001b[1m4s\u001b[0m 71ms/step - loss: 0.0016 - val_loss: 0.0031\n"
          ]
        },
        {
          "output_type": "execute_result",
          "data": {
            "text/plain": [
              "<keras.src.callbacks.history.History at 0x7e86bc3a55d0>"
            ]
          },
          "metadata": {},
          "execution_count": 22
        }
      ]
    },
    {
      "cell_type": "markdown",
      "source": [
        "## Train Enhanced Model (V2)"
      ],
      "metadata": {
        "id": "bUZX1WcrR5dU"
      }
    },
    {
      "cell_type": "code",
      "source": [
        "# Define second model (V2)\n",
        "model_v2 = Sequential([\n",
        "    Bidirectional(LSTM(128, return_sequences=True), input_shape=(X.shape[1], X.shape[2])),\n",
        "    Dropout(0.1),\n",
        "    Bidirectional(LSTM(64)),\n",
        "    Dropout(0.1),\n",
        "    Dense(1)\n",
        "])\n",
        "\n",
        "model_v2.compile(optimizer='adam', loss='mean_squared_error')\n",
        "\n",
        "es2 = EarlyStopping(monitor='val_loss', patience=5, restore_best_weights=True)\n",
        "mc2 = ModelCheckpoint(\"data/model_v2.keras\", save_best_only=True)\n",
        "\n",
        "model_v2.fit(X_train, y_train, validation_split=0.1, epochs=100, batch_size=32, callbacks=[es2, mc2])\n"
      ],
      "metadata": {
        "colab": {
          "base_uri": "https://localhost:8080/"
        },
        "id": "H-JLu6ElR7mt",
        "outputId": "3bf7ce58-ca2f-4783-95bb-13c25e1f7b57"
      },
      "execution_count": 23,
      "outputs": [
        {
          "output_type": "stream",
          "name": "stdout",
          "text": [
            "Epoch 1/100\n",
            "\u001b[1m55/55\u001b[0m \u001b[32m━━━━━━━━━━━━━━━━━━━━\u001b[0m\u001b[37m\u001b[0m \u001b[1m15s\u001b[0m 184ms/step - loss: 0.0230 - val_loss: 0.0020\n",
            "Epoch 2/100\n",
            "\u001b[1m55/55\u001b[0m \u001b[32m━━━━━━━━━━━━━━━━━━━━\u001b[0m\u001b[37m\u001b[0m \u001b[1m9s\u001b[0m 169ms/step - loss: 0.0013 - val_loss: 0.0014\n",
            "Epoch 3/100\n",
            "\u001b[1m55/55\u001b[0m \u001b[32m━━━━━━━━━━━━━━━━━━━━\u001b[0m\u001b[37m\u001b[0m \u001b[1m9s\u001b[0m 167ms/step - loss: 0.0012 - val_loss: 0.0018\n",
            "Epoch 4/100\n",
            "\u001b[1m55/55\u001b[0m \u001b[32m━━━━━━━━━━━━━━━━━━━━\u001b[0m\u001b[37m\u001b[0m \u001b[1m9s\u001b[0m 167ms/step - loss: 0.0012 - val_loss: 0.0017\n",
            "Epoch 5/100\n",
            "\u001b[1m55/55\u001b[0m \u001b[32m━━━━━━━━━━━━━━━━━━━━\u001b[0m\u001b[37m\u001b[0m \u001b[1m9s\u001b[0m 167ms/step - loss: 8.8576e-04 - val_loss: 0.0020\n",
            "Epoch 6/100\n",
            "\u001b[1m55/55\u001b[0m \u001b[32m━━━━━━━━━━━━━━━━━━━━\u001b[0m\u001b[37m\u001b[0m \u001b[1m9s\u001b[0m 168ms/step - loss: 8.0289e-04 - val_loss: 0.0021\n",
            "Epoch 7/100\n",
            "\u001b[1m55/55\u001b[0m \u001b[32m━━━━━━━━━━━━━━━━━━━━\u001b[0m\u001b[37m\u001b[0m \u001b[1m9s\u001b[0m 168ms/step - loss: 0.0010 - val_loss: 0.0021\n"
          ]
        },
        {
          "output_type": "execute_result",
          "data": {
            "text/plain": [
              "<keras.src.callbacks.history.History at 0x7e86defa5490>"
            ]
          },
          "metadata": {},
          "execution_count": 23
        }
      ]
    },
    {
      "cell_type": "markdown",
      "source": [
        "## Compare Accuracy of Both Models"
      ],
      "metadata": {
        "id": "QA9JCPvFR_Pk"
      }
    },
    {
      "cell_type": "code",
      "source": [
        "from sklearn.metrics import mean_squared_error, mean_absolute_error, r2_score\n",
        "import matplotlib.pyplot as plt\n",
        "\n",
        "def evaluate_model(model_path, name):\n",
        "    model = load_model(model_path)\n",
        "    predictions = model.predict(X_test)\n",
        "    predictions_rescaled = scaler.inverse_transform(np.hstack((predictions, np.zeros((predictions.shape[0], X.shape[2]-1)))))[:,0]\n",
        "    y_true_rescaled = scaler.inverse_transform(np.hstack((y_test.reshape(-1,1), np.zeros((y_test.shape[0], X.shape[2]-1)))))[:,0]\n",
        "\n",
        "    mse = mean_squared_error(y_true_rescaled, predictions_rescaled)\n",
        "    rmse = np.sqrt(mse)\n",
        "    mae = mean_absolute_error(y_true_rescaled, predictions_rescaled)\n",
        "    r2 = r2_score(y_true_rescaled, predictions_rescaled)\n",
        "\n",
        "    print(f\"📊 {name} Evaluation\")\n",
        "    print(f\"  MSE : {mse:.4f}\")\n",
        "    print(f\"  RMSE: {rmse:.4f}\")\n",
        "    print(f\"  MAE : {mae:.4f}\")\n",
        "    print(f\"  R²  : {r2:.4f}\")\n",
        "    print(\"-\" * 30)\n",
        "\n",
        "    return predictions_rescaled, y_true_rescaled\n",
        "\n",
        "pred_v1, actual = evaluate_model(\"data/model_v1.keras\", \"Model V1\")\n",
        "pred_v2, _ = evaluate_model(\"data/model_v2.keras\", \"Model V2\")\n"
      ],
      "metadata": {
        "colab": {
          "base_uri": "https://localhost:8080/"
        },
        "id": "geQjX12RSAQj",
        "outputId": "95b09130-cbbc-448e-9666-eb6d56b2e38c"
      },
      "execution_count": 24,
      "outputs": [
        {
          "output_type": "stream",
          "name": "stdout",
          "text": [
            "\u001b[1m16/16\u001b[0m \u001b[32m━━━━━━━━━━━━━━━━━━━━\u001b[0m\u001b[37m\u001b[0m \u001b[1m1s\u001b[0m 51ms/step\n",
            "📊 Model V1 Evaluation\n",
            "  MSE : 141.6678\n",
            "  RMSE: 11.9024\n",
            "  MAE : 9.4300\n",
            "  R²  : 0.7995\n",
            "------------------------------\n",
            "\u001b[1m16/16\u001b[0m \u001b[32m━━━━━━━━━━━━━━━━━━━━\u001b[0m\u001b[37m\u001b[0m \u001b[1m2s\u001b[0m 81ms/step\n",
            "📊 Model V2 Evaluation\n",
            "  MSE : 106.6979\n",
            "  RMSE: 10.3295\n",
            "  MAE : 7.9218\n",
            "  R²  : 0.8490\n",
            "------------------------------\n"
          ]
        }
      ]
    },
    {
      "cell_type": "markdown",
      "source": [
        "# Plot Comparison"
      ],
      "metadata": {
        "id": "X6ObMh-VSDL8"
      }
    },
    {
      "cell_type": "code",
      "source": [
        "plt.figure(figsize=(16, 6))\n",
        "plt.plot(actual, label='Actual', color='blue')\n",
        "plt.plot(pred_v1, label='Model V1 Prediction', linestyle='--', color='orange')\n",
        "plt.plot(pred_v2, label='Model V2 Prediction', linestyle='-', color='red')\n",
        "plt.title('AAPL Stock Price Prediction - Model Comparison')\n",
        "plt.xlabel('Time')\n",
        "plt.ylabel('Price (USD)')\n",
        "plt.legend()\n",
        "plt.grid(True)\n",
        "plt.show()\n"
      ],
      "metadata": {
        "colab": {
          "base_uri": "https://localhost:8080/",
          "height": 564
        },
        "id": "gRYJRB3GSF0j",
        "outputId": "3351a150-d0bc-4dbb-e046-615bb9f62e8a"
      },
      "execution_count": 25,
      "outputs": [
        {
          "output_type": "display_data",
          "data": {
            "text/plain": [
              "<Figure size 1600x600 with 1 Axes>"
            ],
            "image/png": "[encoded data removed]"
          },
          "metadata": {}
        }
      ]
    },
    {
      "cell_type": "code",
      "source": [],
      "metadata": {
        "id": "vwExQiw6TC4o"
      },
      "execution_count": null,
      "outputs": []
    },
    {
      "cell_type": "code",
      "source": [],
      "metadata": {
        "id": "1S02qhFXTT-Q"
      },
      "execution_count": null,
      "outputs": []
    },
    {
      "cell_type": "code",
      "source": [
        "# prompt: send code to zip this data folder and download it\n",
        "# /content/data\n",
        "\n",
        "!zip -r /content/data.zip /content/data\n",
        "from google.colab import files\n",
        "files.download(\"/content/data.zip\")\n"
      ],
      "metadata": {
        "colab": {
          "base_uri": "https://localhost:8080/",
          "height": 225
        },
        "id": "ySWATYCSUdN8",
        "outputId": "2e85481a-3bf2-43e5-ea9a-7872994df87b"
      },
      "execution_count": 27,
      "outputs": [
        {
          "output_type": "stream",
          "name": "stdout",
          "text": [
            "  adding: content/data/ (stored 0%)\n",
            "  adding: content/data/best_model.h5 (deflated 7%)\n",
            "  adding: content/data/final_model_v2.keras (deflated 8%)\n",
            "  adding: content/data/model_v1.keras (deflated 11%)\n",
            "  adding: content/data/final_model.keras (deflated 8%)\n",
            "  adding: content/data/best_model_v2.h5 (deflated 8%)\n",
            "  adding: content/data/processed_stock.csv (deflated 54%)\n",
            "  adding: content/data/raw_stock1.csv (deflated 56%)\n",
            "  adding: content/data/model_v2.keras (deflated 8%)\n",
            "  adding: content/data/.ipynb_checkpoints/ (stored 0%)\n",
            "  adding: content/data/scaler_multi.save (deflated 27%)\n",
            "  adding: content/data/scaler.pkl (deflated 17%)\n"
          ]
        },
        {
          "output_type": "display_data",
          "data": {
            "text/plain": [
              "<IPython.core.display.Javascript object>"
            ],
            "application/javascript": [
              "\n",
              "    async function download(id, filename, size) {\n",
              "      if (!google.colab.kernel.accessAllowed) {\n",
              "        return;\n",
              "      }\n",
              "      const div = document.createElement('div');\n",
              "      const label = document.createElement('label');\n",
              "      label.textContent = `Downloading \"${filename}\": `;\n",
              "      div.appendChild(label);\n",
              "      const progress = document.createElement('progress');\n",
              "      progress.max = size;\n",
              "      div.appendChild(progress);\n",
              "      document.body.appendChild(div);\n",
              "\n",
              "      const buffers = [];\n",
              "      let downloaded = 0;\n",
              "\n",
              "      const channel = await google.colab.kernel.comms.open(id);\n",
              "      // Send a message to notify the kernel that we're ready.\n",
              "      channel.send({})\n",
              "\n",
              "      for await (const message of channel.messages) {\n",
              "        // Send a message to notify the kernel that we're ready.\n",
              "        channel.send({})\n",
              "        if (message.buffers) {\n",
              "          for (const buffer of message.buffers) {\n",
              "            buffers.push(buffer);\n",
              "            downloaded += buffer.byteLength;\n",
              "            progress.value = downloaded;\n",
              "          }\n",
              "        }\n",
              "      }\n",
              "      const blob = new Blob(buffers, {type: 'application/binary'});\n",
              "      const a = document.createElement('a');\n",
              "      a.href = window.URL.createObjectURL(blob);\n",
              "      a.download = filename;\n",
              "      div.appendChild(a);\n",
              "      a.click();\n",
              "      div.remove();\n",
              "    }\n",
              "  "
            ]
          },
          "metadata": {}
        },
        {
          "output_type": "display_data",
          "data": {
            "text/plain": [
              "<IPython.core.display.Javascript object>"
            ],
            "application/javascript": [
              "download(\"download_ee3d7504-0638-40c1-a657-bda3521a37e7\", \"data.zip\", 18515540)"
            ]
          },
          "metadata": {}
        }
      ]
    },
    {
      "cell_type": "code",
      "source": [],
      "metadata": {
        "id": "a8Ty6pAXUk2P"
      },
      "execution_count": null,
      "outputs": []
    },
    {
      "cell_type": "code",
      "source": [
        "import os\n",
        "import zipfile\n",
        "from google.colab import files  # Only needed if running in Google Colab\n",
        "\n",
        "# Assuming model_v1 and model_v2 are your trained Keras model objects\n",
        "\n",
        "# Define the folder to save the models\n",
        "models_folder = \"saved_models\"\n",
        "os.makedirs(models_folder, exist_ok=True)\n",
        "\n",
        "# Save the first model (V1)\n",
        "model_v1_path = os.path.join(models_folder, \"model_v1.keras\")\n",
        "model_v1.save(model_v1_path)\n",
        "print(f\"model_v1 saved to: {model_v1_path}\")\n",
        "\n",
        "# Save the second model (V2)\n",
        "model_v2_path = os.path.join(models_folder, \"model_v2.keras\")\n",
        "model_v2.save(model_v2_path)\n",
        "print(f\"model_v2 saved to: {model_v2_path}\")\n",
        "\n",
        "# Create a zip file\n",
        "zip_file_path = \"trained_models.zip\"\n",
        "with zipfile.ZipFile(zip_file_path, 'w') as zipf:\n",
        "    for root, _, files_in_folder in os.walk(models_folder):\n",
        "        for file in files_in_folder:\n",
        "            file_path = os.path.join(root, file)\n",
        "            zipf.write(file_path, os.path.relpath(file_path, models_folder))\n",
        "\n",
        "print(f\"\\nModels zipped to: {zip_file_path}\")\n",
        "\n",
        "# Download the zip file (only works in Google Colab)\n",
        "try:\n",
        "    files.download(zip_file_path)\n",
        "except ImportError:\n",
        "    print(\"\\nDownloading the zip file is only supported in Google Colab.\")\n",
        "    print(f\"Please find the '{zip_file_path}' file in your Colab file browser.\")"
      ],
      "metadata": {
        "colab": {
          "base_uri": "https://localhost:8080/",
          "height": 86
        },
        "id": "AL3fSl7iVyfW",
        "outputId": "bb6b7f84-1458-4316-ef3d-92a57fb3bd42"
      },
      "execution_count": 29,
      "outputs": [
        {
          "output_type": "stream",
          "name": "stdout",
          "text": [
            "model_v1 saved to: saved_models/model_v1.keras\n",
            "model_v2 saved to: saved_models/model_v2.keras\n",
            "\n",
            "Models zipped to: trained_models.zip\n"
          ]
        },
        {
          "output_type": "display_data",
          "data": {
            "text/plain": [
              "<IPython.core.display.Javascript object>"
            ],
            "application/javascript": [
              "\n",
              "    async function download(id, filename, size) {\n",
              "      if (!google.colab.kernel.accessAllowed) {\n",
              "        return;\n",
              "      }\n",
              "      const div = document.createElement('div');\n",
              "      const label = document.createElement('label');\n",
              "      label.textContent = `Downloading \"${filename}\": `;\n",
              "      div.appendChild(label);\n",
              "      const progress = document.createElement('progress');\n",
              "      progress.max = size;\n",
              "      div.appendChild(progress);\n",
              "      document.body.appendChild(div);\n",
              "\n",
              "      const buffers = [];\n",
              "      let downloaded = 0;\n",
              "\n",
              "      const channel = await google.colab.kernel.comms.open(id);\n",
              "      // Send a message to notify the kernel that we're ready.\n",
              "      channel.send({})\n",
              "\n",
              "      for await (const message of channel.messages) {\n",
              "        // Send a message to notify the kernel that we're ready.\n",
              "        channel.send({})\n",
              "        if (message.buffers) {\n",
              "          for (const buffer of message.buffers) {\n",
              "            buffers.push(buffer);\n",
              "            downloaded += buffer.byteLength;\n",
              "            progress.value = downloaded;\n",
              "          }\n",
              "        }\n",
              "      }\n",
              "      const blob = new Blob(buffers, {type: 'application/binary'});\n",
              "      const a = document.createElement('a');\n",
              "      a.href = window.URL.createObjectURL(blob);\n",
              "      a.download = filename;\n",
              "      div.appendChild(a);\n",
              "      a.click();\n",
              "      div.remove();\n",
              "    }\n",
              "  "
            ]
          },
          "metadata": {}
        },
        {
          "output_type": "display_data",
          "data": {
            "text/plain": [
              "<IPython.core.display.Javascript object>"
            ],
            "application/javascript": [
              "download(\"download_292a65f6-dbb2-422f-b1d3-a948d6cbbc77\", \"trained_models.zip\", 4751454)"
            ]
          },
          "metadata": {}
        }
      ]
    },
    {
      "cell_type": "code",
      "source": [
        "import os\n",
        "import zipfile\n",
        "import pickle\n",
        "import h5py\n",
        "from google.colab import files  # Only needed if running in Google Colab\n",
        "import numpy as np # Assuming your scaler might involve numpy arrays\n",
        "\n",
        "# Assuming model_v1, model_v2, and your scaler object are in variables\n",
        "\n",
        "# Define the folder to save the models and scaler\n",
        "save_folder = \"saved_artifacts\"\n",
        "os.makedirs(save_folder, exist_ok=True)\n",
        "\n",
        "# Save the first model (V1) as .keras\n",
        "model_v1_keras_path = os.path.join(save_folder, \"model_v1.keras\")\n",
        "model_v1.save(model_v1_keras_path)\n",
        "print(f\"model_v1 saved as .keras to: {model_v1_keras_path}\")\n",
        "\n",
        "# Save the first model (V1) as .h5\n",
        "model_v1_h5_path = os.path.join(save_folder, \"model_v1.h5\")\n",
        "model_v1.save(model_v1_h5_path)\n",
        "print(f\"model_v1 saved as .h5 to: {model_v1_h5_path}\")\n",
        "\n",
        "# Save the second model (V2) as .keras\n",
        "model_v2_keras_path = os.path.join(save_folder, \"model_v2.keras\")\n",
        "model_v2.save(model_v2_keras_path)\n",
        "print(f\"model_v2 saved as .keras to: {model_v2_keras_path}\")\n",
        "\n",
        "# Save the second model (V2) as .h5\n",
        "model_v2_h5_path = os.path.join(save_folder, \"model_v2.h5\")\n",
        "model_v2.save(model_v2_h5_path)\n",
        "print(f\"model_v2 saved as .h5 to: {model_v2_h5_path}\")\n",
        "\n",
        "# Save the scaler object (assuming it's a standard scaler from scikit-learn or similar)\n",
        "scaler_path = os.path.join(save_folder, \"scaler.pkl\")\n",
        "with open(scaler_path, 'wb') as file:\n",
        "    pickle.dump(scaler, file)\n",
        "print(f\"Scaler saved to: {scaler_path}\")\n",
        "\n",
        "# Create a zip file\n",
        "zip_file_path = \"trained_artifacts.zip\"\n",
        "with zipfile.ZipFile(zip_file_path, 'w') as zipf:\n",
        "    for root, _, files_in_folder in os.walk(save_folder):\n",
        "        for file in files_in_folder:\n",
        "            file_path = os.path.join(root, file)\n",
        "            zipf.write(file_path, os.path.relpath(file_path, save_folder))\n",
        "\n",
        "print(f\"\\nArtifacts zipped to: {zip_file_path}\")\n",
        "\n",
        "# Download the zip file (only works in Google Colab)\n",
        "try:\n",
        "    files.download(zip_file_path)\n",
        "except ImportError:\n",
        "    print(\"\\nDownloading the zip file is only supported in Google Colab.\")\n",
        "    print(f\"Please find the '{zip_file_path}' file in your Colab file browser.\")"
      ],
      "metadata": {
        "colab": {
          "base_uri": "https://localhost:8080/",
          "height": 193
        },
        "id": "y74nGteqVzhE",
        "outputId": "90338616-6915-400c-b010-108aff64c4f7"
      },
      "execution_count": 30,
      "outputs": [
        {
          "output_type": "stream",
          "name": "stderr",
          "text": [
            "WARNING:absl:You are saving your model as an HDF5 file via `model.save()` or `keras.saving.save_model(model)`. This file format is considered legacy. We recommend using instead the native Keras format, e.g. `model.save('my_model.keras')` or `keras.saving.save_model(model, 'my_model.keras')`. \n",
            "WARNING:absl:You are saving your model as an HDF5 file via `model.save()` or `keras.saving.save_model(model)`. This file format is considered legacy. We recommend using instead the native Keras format, e.g. `model.save('my_model.keras')` or `keras.saving.save_model(model, 'my_model.keras')`. \n"
          ]
        },
        {
          "output_type": "stream",
          "name": "stdout",
          "text": [
            "model_v1 saved as .keras to: saved_artifacts/model_v1.keras\n",
            "model_v1 saved as .h5 to: saved_artifacts/model_v1.h5\n",
            "model_v2 saved as .keras to: saved_artifacts/model_v2.keras\n",
            "model_v2 saved as .h5 to: saved_artifacts/model_v2.h5\n",
            "Scaler saved to: saved_artifacts/scaler.pkl\n",
            "\n",
            "Artifacts zipped to: trained_artifacts.zip\n"
          ]
        },
        {
          "output_type": "display_data",
          "data": {
            "text/plain": [
              "<IPython.core.display.Javascript object>"
            ],
            "application/javascript": [
              "\n",
              "    async function download(id, filename, size) {\n",
              "      if (!google.colab.kernel.accessAllowed) {\n",
              "        return;\n",
              "      }\n",
              "      const div = document.createElement('div');\n",
              "      const label = document.createElement('label');\n",
              "      label.textContent = `Downloading \"${filename}\": `;\n",
              "      div.appendChild(label);\n",
              "      const progress = document.createElement('progress');\n",
              "      progress.max = size;\n",
              "      div.appendChild(progress);\n",
              "      document.body.appendChild(div);\n",
              "\n",
              "      const buffers = [];\n",
              "      let downloaded = 0;\n",
              "\n",
              "      const channel = await google.colab.kernel.comms.open(id);\n",
              "      // Send a message to notify the kernel that we're ready.\n",
              "      channel.send({})\n",
              "\n",
              "      for await (const message of channel.messages) {\n",
              "        // Send a message to notify the kernel that we're ready.\n",
              "        channel.send({})\n",
              "        if (message.buffers) {\n",
              "          for (const buffer of message.buffers) {\n",
              "            buffers.push(buffer);\n",
              "            downloaded += buffer.byteLength;\n",
              "            progress.value = downloaded;\n",
              "          }\n",
              "        }\n",
              "      }\n",
              "      const blob = new Blob(buffers, {type: 'application/binary'});\n",
              "      const a = document.createElement('a');\n",
              "      a.href = window.URL.createObjectURL(blob);\n",
              "      a.download = filename;\n",
              "      div.appendChild(a);\n",
              "      a.click();\n",
              "      div.remove();\n",
              "    }\n",
              "  "
            ]
          },
          "metadata": {}
        },
        {
          "output_type": "display_data",
          "data": {
            "text/plain": [
              "<IPython.core.display.Javascript object>"
            ],
            "application/javascript": [
              "download(\"download_37c9bdb3-1312-46ba-afdc-3af965405e17\", \"trained_artifacts.zip\", 9505172)"
            ]
          },
          "metadata": {}
        }
      ]
    },
    {
      "cell_type": "code",
      "source": [],
      "metadata": {
        "id": "uazFv4C5WOmQ"
      },
      "execution_count": null,
      "outputs": []
    }
  ]
}